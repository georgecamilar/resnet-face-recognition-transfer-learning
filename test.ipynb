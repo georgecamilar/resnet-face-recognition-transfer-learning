{
 "cells": [
  {
   "cell_type": "code",
   "execution_count": 1,
   "metadata": {
    "collapsed": true,
    "pycharm": {
     "name": "#%%\n"
    }
   },
   "outputs": [],
   "source": [
    "import tensorflow as tf"
   ]
  },
  {
   "cell_type": "code",
   "execution_count": 3,
   "metadata": {
    "pycharm": {
     "name": "#%%\n"
    }
   },
   "outputs": [],
   "source": [
    "model = tf.keras.models.load_model(\"./checkpoint\")"
   ]
  },
  {
   "cell_type": "code",
   "execution_count": 4,
   "metadata": {
    "pycharm": {
     "name": "#%%\n"
    }
   },
   "outputs": [
    {
     "name": "stdout",
     "output_type": "stream",
     "text": [
      "Model: \"sequential\"\n",
      "_________________________________________________________________\n",
      " Layer (type)                Output Shape              Param #   \n",
      "=================================================================\n",
      " vgg16 (Functional)          (None, 7, 7, 512)         14714688  \n",
      "                                                                 \n",
      " global_average_pooling2d (G  (None, 512)              0         \n",
      " lobalAveragePooling2D)                                          \n",
      "                                                                 \n",
      " dense (Dense)               (None, 2048)              1050624   \n",
      "                                                                 \n",
      " dense_1 (Dense)             (None, 1024)              2098176   \n",
      "                                                                 \n",
      " dense_2 (Dense)             (None, 512)               524800    \n",
      "                                                                 \n",
      " dense_3 (Dense)             (None, 51)                26163     \n",
      "                                                                 \n",
      "=================================================================\n",
      "Total params: 18,414,451\n",
      "Trainable params: 3,699,763\n",
      "Non-trainable params: 14,714,688\n",
      "_________________________________________________________________\n"
     ]
    }
   ],
   "source": [
    "model.summary()"
   ]
  },
  {
   "cell_type": "code",
   "execution_count": 5,
   "metadata": {
    "pycharm": {
     "name": "#%%\n"
    }
   },
   "outputs": [
    {
     "name": "stdout",
     "output_type": "stream",
     "text": [
      "[[[[200. 183. 167.]\n",
      "   [198. 181. 165.]\n",
      "   [197. 180. 162.]\n",
      "   ...\n",
      "   [176. 181. 159.]\n",
      "   [160. 165. 143.]\n",
      "   [161. 166. 144.]]\n",
      "\n",
      "  [[201. 184. 168.]\n",
      "   [199. 182. 166.]\n",
      "   [198. 181. 163.]\n",
      "   ...\n",
      "   [169. 174. 152.]\n",
      "   [162. 167. 145.]\n",
      "   [154. 159. 137.]]\n",
      "\n",
      "  [[201. 184. 166.]\n",
      "   [200. 183. 165.]\n",
      "   [199. 182. 164.]\n",
      "   ...\n",
      "   [165. 170. 148.]\n",
      "   [168. 173. 151.]\n",
      "   [154. 159. 137.]]\n",
      "\n",
      "  ...\n",
      "\n",
      "  [[213. 157. 122.]\n",
      "   [210. 156. 120.]\n",
      "   [206. 153. 121.]\n",
      "   ...\n",
      "   [138. 125. 106.]\n",
      "   [145. 130. 111.]\n",
      "   [152. 137. 118.]]\n",
      "\n",
      "  [[209. 155. 117.]\n",
      "   [206. 152. 114.]\n",
      "   [204. 151. 117.]\n",
      "   ...\n",
      "   [137. 124. 105.]\n",
      "   [144. 129. 110.]\n",
      "   [153. 138. 119.]]\n",
      "\n",
      "  [[206. 153. 113.]\n",
      "   [204. 152. 113.]\n",
      "   [204. 151. 117.]\n",
      "   ...\n",
      "   [137. 124. 105.]\n",
      "   [144. 129. 110.]\n",
      "   [154. 139. 120.]]]]\n"
     ]
    }
   ],
   "source": [
    "import numpy as np\n",
    "\n",
    "img = tf.keras.utils.load_img(\"./utilityspace/current.jpeg\")\n",
    "img_tensor = tf.keras.preprocessing.image.img_to_array(img)\n",
    "img_array_expanded_dims = np.expand_dims(img_tensor, axis=0)\n",
    "print(img_array_expanded_dims)"
   ]
  },
  {
   "cell_type": "code",
   "execution_count": 8,
   "metadata": {
    "pycharm": {
     "name": "#%%\n"
    }
   },
   "outputs": [],
   "source": [
    "preprocessed = tf.keras.applications.vgg16.preprocess_input(img_array_expanded_dims)"
   ]
  },
  {
   "cell_type": "code",
   "execution_count": 11,
   "metadata": {
    "pycharm": {
     "name": "#%%\n"
    }
   },
   "outputs": [
    {
     "name": "stdout",
     "output_type": "stream",
     "text": [
      "[[[[63.060997  66.221     76.32     ]\n",
      "   [61.060997  64.221     74.32     ]\n",
      "   [58.060997  63.221     73.32     ]\n",
      "   ...\n",
      "   [55.060997  64.221     52.32     ]\n",
      "   [39.060997  48.221     36.32     ]\n",
      "   [40.060997  49.221     37.32     ]]\n",
      "\n",
      "  [[64.061     67.221     77.32     ]\n",
      "   [62.060997  65.221     75.32     ]\n",
      "   [59.060997  64.221     74.32     ]\n",
      "   ...\n",
      "   [48.060997  57.221     45.32     ]\n",
      "   [41.060997  50.221     38.32     ]\n",
      "   [33.060997  42.221     30.32     ]]\n",
      "\n",
      "  [[62.060997  67.221     77.32     ]\n",
      "   [61.060997  66.221     76.32     ]\n",
      "   [60.060997  65.221     75.32     ]\n",
      "   ...\n",
      "   [44.060997  53.221     41.32     ]\n",
      "   [47.060997  56.221     44.32     ]\n",
      "   [33.060997  42.221     30.32     ]]\n",
      "\n",
      "  ...\n",
      "\n",
      "  [[18.060997  40.221     89.32     ]\n",
      "   [16.060997  39.221     86.32     ]\n",
      "   [17.060997  36.221     82.32     ]\n",
      "   ...\n",
      "   [ 2.060997   8.221001  14.32     ]\n",
      "   [ 7.060997  13.221001  21.32     ]\n",
      "   [14.060997  20.221     28.32     ]]\n",
      "\n",
      "  [[13.060997  38.221     85.32     ]\n",
      "   [10.060997  35.221     82.32     ]\n",
      "   [13.060997  34.221     80.32     ]\n",
      "   ...\n",
      "   [ 1.060997   7.2210007 13.32     ]\n",
      "   [ 6.060997  12.221001  20.32     ]\n",
      "   [15.060997  21.221     29.32     ]]\n",
      "\n",
      "  [[ 9.060997  36.221     82.32     ]\n",
      "   [ 9.060997  35.221     80.32     ]\n",
      "   [13.060997  34.221     80.32     ]\n",
      "   ...\n",
      "   [ 1.060997   7.2210007 13.32     ]\n",
      "   [ 6.060997  12.221001  20.32     ]\n",
      "   [16.060997  22.221     30.32     ]]]]\n",
      "1/1 [==============================] - 0s 15ms/step\n"
     ]
    }
   ],
   "source": [
    "print(preprocessed)\n",
    "face_prediction = model.predict(preprocessed)"
   ]
  },
  {
   "cell_type": "code",
   "execution_count": 13,
   "metadata": {
    "pycharm": {
     "name": "#%%\n"
    }
   },
   "outputs": [
    {
     "data": {
      "text/plain": [
       "array([30])"
      ]
     },
     "execution_count": 13,
     "metadata": {},
     "output_type": "execute_result"
    }
   ],
   "source": [
    "np.argmax(face_prediction, axis=-1)"
   ]
  },
  {
   "cell_type": "code",
   "execution_count": null,
   "metadata": {
    "pycharm": {
     "name": "#%%\n"
    }
   },
   "outputs": [],
   "source": []
  }
 ],
 "metadata": {
  "kernelspec": {
   "display_name": "Python 3 (ipykernel)",
   "language": "python",
   "name": "python3"
  },
  "language_info": {
   "codemirror_mode": {
    "name": "ipython",
    "version": 3
   },
   "file_extension": ".py",
   "mimetype": "text/x-python",
   "name": "python",
   "nbconvert_exporter": "python",
   "pygments_lexer": "ipython3",
   "version": "3.9.13"
  }
 },
 "nbformat": 4,
 "nbformat_minor": 1
}